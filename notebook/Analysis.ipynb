{
 "cells": [
  {
   "cell_type": "code",
   "execution_count": 16,
   "metadata": {},
   "outputs": [],
   "source": [
    "import pandas as pd\n",
    "import numpy as np\n",
    "import seaborn as sns\n",
    "import matplotlib.pyplot as plt\n",
    "from datetime import date"
   ]
  },
  {
   "cell_type": "code",
   "execution_count": 23,
   "metadata": {},
   "outputs": [],
   "source": [
    "df = pd.read_csv('/home/mugesh/MLops/udmey-price/data/udemy_courses.csv')"
   ]
  },
  {
   "cell_type": "code",
   "execution_count": 24,
   "metadata": {},
   "outputs": [
    {
     "data": {
      "text/plain": [
       "course_id              0\n",
       "course_title           0\n",
       "url                    0\n",
       "is_paid                0\n",
       "price                  0\n",
       "num_subscribers        0\n",
       "num_reviews            0\n",
       "num_lectures           0\n",
       "level                  0\n",
       "content_duration       0\n",
       "published_timestamp    0\n",
       "subject                0\n",
       "dtype: int64"
      ]
     },
     "execution_count": 24,
     "metadata": {},
     "output_type": "execute_result"
    }
   ],
   "source": [
    "df.isnull().sum()"
   ]
  },
  {
   "cell_type": "code",
   "execution_count": 25,
   "metadata": {},
   "outputs": [],
   "source": [
    "df[\"published_timestamp\"] = pd.to_datetime(df.published_timestamp).dt.date\n",
    "df[\"days_since_published\"] = (date.today() - df.published_timestamp).dt.days"
   ]
  },
  {
   "cell_type": "code",
   "execution_count": 26,
   "metadata": {},
   "outputs": [
    {
     "data": {
      "text/plain": [
       "0       1565\n",
       "1       1515\n",
       "2       1595\n",
       "3       1433\n",
       "4       1601\n",
       "        ... \n",
       "3673    1783\n",
       "3674    1514\n",
       "3675    1950\n",
       "3676    1725\n",
       "3677    2408\n",
       "Name: days_since_published, Length: 3678, dtype: int64"
      ]
     },
     "execution_count": 26,
     "metadata": {},
     "output_type": "execute_result"
    }
   ],
   "source": [
    "df.days_since_published"
   ]
  },
  {
   "cell_type": "code",
   "execution_count": 31,
   "metadata": {},
   "outputs": [],
   "source": [
    "train =  df[[\"num_lectures\", \"price\", \"days_since_published\", \"content_duration\", \"subject\"]]"
   ]
  },
  {
   "cell_type": "code",
   "execution_count": 32,
   "metadata": {},
   "outputs": [
    {
     "data": {
      "text/plain": [
       "0       2147\n",
       "1       2792\n",
       "2       2174\n",
       "3       2451\n",
       "4       1276\n",
       "        ... \n",
       "3673    1040\n",
       "3674     306\n",
       "3675     513\n",
       "3676     300\n",
       "3677     901\n",
       "Name: num_subscribers, Length: 3678, dtype: int64"
      ]
     },
     "execution_count": 32,
     "metadata": {},
     "output_type": "execute_result"
    }
   ],
   "source": [
    "df.num_subscribers"
   ]
  },
  {
   "cell_type": "code",
   "execution_count": 35,
   "metadata": {},
   "outputs": [
    {
     "data": {
      "text/html": [
       "<div>\n",
       "<style scoped>\n",
       "    .dataframe tbody tr th:only-of-type {\n",
       "        vertical-align: middle;\n",
       "    }\n",
       "\n",
       "    .dataframe tbody tr th {\n",
       "        vertical-align: top;\n",
       "    }\n",
       "\n",
       "    .dataframe thead th {\n",
       "        text-align: right;\n",
       "    }\n",
       "</style>\n",
       "<table border=\"1\" class=\"dataframe\">\n",
       "  <thead>\n",
       "    <tr style=\"text-align: right;\">\n",
       "      <th></th>\n",
       "      <th>num_lectures</th>\n",
       "      <th>price</th>\n",
       "      <th>days_since_published</th>\n",
       "      <th>content_duration</th>\n",
       "      <th>subject</th>\n",
       "    </tr>\n",
       "  </thead>\n",
       "  <tbody>\n",
       "    <tr>\n",
       "      <th>0</th>\n",
       "      <td>51</td>\n",
       "      <td>200</td>\n",
       "      <td>1565</td>\n",
       "      <td>1.5</td>\n",
       "      <td>Business Finance</td>\n",
       "    </tr>\n",
       "    <tr>\n",
       "      <th>1</th>\n",
       "      <td>274</td>\n",
       "      <td>75</td>\n",
       "      <td>1515</td>\n",
       "      <td>39.0</td>\n",
       "      <td>Business Finance</td>\n",
       "    </tr>\n",
       "    <tr>\n",
       "      <th>2</th>\n",
       "      <td>51</td>\n",
       "      <td>45</td>\n",
       "      <td>1595</td>\n",
       "      <td>2.5</td>\n",
       "      <td>Business Finance</td>\n",
       "    </tr>\n",
       "    <tr>\n",
       "      <th>3</th>\n",
       "      <td>36</td>\n",
       "      <td>95</td>\n",
       "      <td>1433</td>\n",
       "      <td>3.0</td>\n",
       "      <td>Business Finance</td>\n",
       "    </tr>\n",
       "    <tr>\n",
       "      <th>4</th>\n",
       "      <td>26</td>\n",
       "      <td>200</td>\n",
       "      <td>1601</td>\n",
       "      <td>2.0</td>\n",
       "      <td>Business Finance</td>\n",
       "    </tr>\n",
       "    <tr>\n",
       "      <th>...</th>\n",
       "      <td>...</td>\n",
       "      <td>...</td>\n",
       "      <td>...</td>\n",
       "      <td>...</td>\n",
       "      <td>...</td>\n",
       "    </tr>\n",
       "    <tr>\n",
       "      <th>3673</th>\n",
       "      <td>21</td>\n",
       "      <td>100</td>\n",
       "      <td>1783</td>\n",
       "      <td>2.0</td>\n",
       "      <td>Web Development</td>\n",
       "    </tr>\n",
       "    <tr>\n",
       "      <th>3674</th>\n",
       "      <td>42</td>\n",
       "      <td>25</td>\n",
       "      <td>1514</td>\n",
       "      <td>3.5</td>\n",
       "      <td>Web Development</td>\n",
       "    </tr>\n",
       "    <tr>\n",
       "      <th>3675</th>\n",
       "      <td>48</td>\n",
       "      <td>40</td>\n",
       "      <td>1950</td>\n",
       "      <td>3.5</td>\n",
       "      <td>Web Development</td>\n",
       "    </tr>\n",
       "    <tr>\n",
       "      <th>3676</th>\n",
       "      <td>38</td>\n",
       "      <td>50</td>\n",
       "      <td>1725</td>\n",
       "      <td>3.0</td>\n",
       "      <td>Web Development</td>\n",
       "    </tr>\n",
       "    <tr>\n",
       "      <th>3677</th>\n",
       "      <td>20</td>\n",
       "      <td>45</td>\n",
       "      <td>2408</td>\n",
       "      <td>2.0</td>\n",
       "      <td>Web Development</td>\n",
       "    </tr>\n",
       "  </tbody>\n",
       "</table>\n",
       "<p>3678 rows × 5 columns</p>\n",
       "</div>"
      ],
      "text/plain": [
       "      num_lectures  price  days_since_published  content_duration  \\\n",
       "0               51    200                  1565               1.5   \n",
       "1              274     75                  1515              39.0   \n",
       "2               51     45                  1595               2.5   \n",
       "3               36     95                  1433               3.0   \n",
       "4               26    200                  1601               2.0   \n",
       "...            ...    ...                   ...               ...   \n",
       "3673            21    100                  1783               2.0   \n",
       "3674            42     25                  1514               3.5   \n",
       "3675            48     40                  1950               3.5   \n",
       "3676            38     50                  1725               3.0   \n",
       "3677            20     45                  2408               2.0   \n",
       "\n",
       "               subject  \n",
       "0     Business Finance  \n",
       "1     Business Finance  \n",
       "2     Business Finance  \n",
       "3     Business Finance  \n",
       "4     Business Finance  \n",
       "...                ...  \n",
       "3673   Web Development  \n",
       "3674   Web Development  \n",
       "3675   Web Development  \n",
       "3676   Web Development  \n",
       "3677   Web Development  \n",
       "\n",
       "[3678 rows x 5 columns]"
      ]
     },
     "execution_count": 35,
     "metadata": {},
     "output_type": "execute_result"
    }
   ],
   "source": [
    "train"
   ]
  },
  {
   "cell_type": "code",
   "execution_count": null,
   "metadata": {},
   "outputs": [],
   "source": []
  }
 ],
 "metadata": {
  "kernelspec": {
   "display_name": "Python 3",
   "language": "python",
   "name": "python3"
  },
  "language_info": {
   "codemirror_mode": {
    "name": "ipython",
    "version": 3
   },
   "file_extension": ".py",
   "mimetype": "text/x-python",
   "name": "python",
   "nbconvert_exporter": "python",
   "pygments_lexer": "ipython3",
   "version": "3.7.6"
  }
 },
 "nbformat": 4,
 "nbformat_minor": 4
}
